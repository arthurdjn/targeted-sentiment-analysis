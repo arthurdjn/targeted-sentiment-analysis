{
 "cells": [
  {
   "cell_type": "markdown",
   "metadata": {},
   "source": [
    "# **Grid Search**\n",
    "\n",
    "Documentation [here](https://github.com/skorch-dev/skorch)"
   ]
  },
  {
   "cell_type": "markdown",
   "metadata": {},
   "source": [
    "# **0. Set Up**\n",
    "\n",
    "Before diving in the models, let's reload the notebook to keep it updated."
   ]
  },
  {
   "cell_type": "code",
   "execution_count": 1,
   "metadata": {},
   "outputs": [],
   "source": [
    "import matplotlib.pyplot as plt\n",
    "\n",
    "# This is a bit of magic to make matplotlib figures appear inline in the notebook\n",
    "# rather than in a new window.\n",
    "%matplotlib inline\n",
    "plt.rcParams['figure.figsize'] = (10.0, 8) # set default size of plots\n",
    "plt.rcParams['image.interpolation'] = 'nearest'\n",
    "plt.style.use('seaborn-darkgrid')\n",
    "\n",
    "# Some more magic so that the notebook will reload external python modules;\n",
    "# see http://stackoverflow.com/questions/1907993/autoreload-of-modules-in-ipython\n",
    "%load_ext autoreload\n",
    "%autoreload 2"
   ]
  },
  {
   "cell_type": "markdown",
   "metadata": {},
   "source": [
    "Then, let's load the dependencies:"
   ]
  },
  {
   "cell_type": "code",
   "execution_count": 2,
   "metadata": {},
   "outputs": [],
   "source": [
    "# PyTorch\n",
    "import torch\n",
    "import torch.nn as nn\n",
    "import torch.optim as optim\n",
    "from torchtext import data\n",
    "from torchtext import datasets\n",
    "\n",
    "from torch.nn.utils.rnn import pad_packed_sequence, PackedSequence\n",
    "from torch.utils.data import DataLoader\n",
    "\n",
    "# Data science\n",
    "import spacy\n",
    "import numpy as np\n",
    "import time\n",
    "import random"
   ]
  },
  {
   "cell_type": "code",
   "execution_count": 3,
   "metadata": {},
   "outputs": [],
   "source": [
    "#Let's not forget to fix the seed for random generated numbers !\n",
    "SEED = 2020 \n",
    "\n",
    "random.seed(SEED)\n",
    "np.random.seed(SEED)\n",
    "torch.manual_seed(SEED)\n",
    "torch.backends.cudnn.deterministic = True"
   ]
  },
  {
   "cell_type": "markdown",
   "metadata": {},
   "source": [
    "# **Baseline**\n",
    "\n",
    "\n",
    "# 1. Dataset\n",
    "\n",
    "### 1.1. NoReC fine"
   ]
  },
  {
   "cell_type": "code",
   "execution_count": 4,
   "metadata": {},
   "outputs": [],
   "source": [
    "import torchtext\n",
    "from sentarget.datasets import NoReCfine\n",
    "\n",
    "TEXT = torchtext.data.Field(lower=False, include_lengths=True, batch_first=True)\n",
    "LABEL = torchtext.data.Field(batch_first=True, unk_token=None)\n",
    "FIELDS = [(\"text\", TEXT), (\"label\", LABEL)]\n",
    "\n",
    "train_data, eval_data, test_data = NoReCfine.splits(FIELDS)"
   ]
  },
  {
   "cell_type": "markdown",
   "metadata": {},
   "source": [
    "### 1.2. Vocabulary"
   ]
  },
  {
   "cell_type": "code",
   "execution_count": 5,
   "metadata": {},
   "outputs": [],
   "source": [
    "from torchtext.vocab import Vectors\n",
    "\n",
    "VOCAB_SIZE = 1_200_000\n",
    "VECTORS = Vectors(name='model.txt', url='http://vectors.nlpl.eu/repository/20/58.zip')\n",
    "\n",
    "# Or use the NoNLPL dataset\n",
    "# from sentarget.datasets.nonlpl import NoNLPL\n",
    "# VECTORS = NoNLPL.load()\n",
    "\n",
    "# Create the vocabulary for words embeddings\n",
    "TEXT.build_vocab(train_data, eval_data, test_data,\n",
    "                 max_size = VOCAB_SIZE, \n",
    "                 vectors = VECTORS, \n",
    "                 unk_init = torch.Tensor.normal_)\n",
    "\n",
    "LABEL.build_vocab(train_data)"
   ]
  },
  {
   "cell_type": "markdown",
   "metadata": {},
   "source": [
    "### 1.3. Iterators"
   ]
  },
  {
   "cell_type": "code",
   "execution_count": 6,
   "metadata": {},
   "outputs": [],
   "source": [
    "BATCH_SIZE = 64\n",
    "\n",
    "device = torch.device('cpu')\n",
    "\n",
    "train_iterator, eval_iterator, test_iterator = data.BucketIterator.splits(\n",
    "    (train_data, eval_data, test_data), \n",
    "    batch_size = BATCH_SIZE,\n",
    "    sort_within_batch = True,\n",
    "    device = device)"
   ]
  },
  {
   "cell_type": "markdown",
   "metadata": {},
   "source": [
    "# 2. Model\n",
    "\n",
    "### 2.1. BiLSTM"
   ]
  },
  {
   "cell_type": "code",
   "execution_count": 7,
   "metadata": {},
   "outputs": [],
   "source": [
    "from sentarget.nn.models.lstm import BiLSTM\n",
    "from sentarget.nn.models.gru import BiGRU\n",
    "\n",
    "\n",
    "# Defines the shape of the models\n",
    "INPUT_DIM = len(TEXT.vocab)\n",
    "EMBEDDING_DIM = 100\n",
    "HIDDEN_DIM = 128\n",
    "OUTPUT_DIM = len(LABEL.vocab)\n",
    "N_LAYERS = 2\n",
    "BIDIRECTIONAL = True\n",
    "DROPOUT = 0.25\n",
    "PAD_IDX = TEXT.vocab.stoi[TEXT.pad_token]\n",
    "UNK_IDX = TEXT.vocab.stoi[TEXT.unk_token]\n",
    "EMBEDDINGS = TEXT.vocab.vectors"
   ]
  },
  {
   "cell_type": "markdown",
   "metadata": {},
   "source": [
    "# 3. Run the grid search with a Tuner class"
   ]
  },
  {
   "cell_type": "code",
   "execution_count": 12,
   "metadata": {},
   "outputs": [],
   "source": [
    "from sentarget import Tuner\n",
    "\n",
    "\n",
    "PAD_IDX_TEXT = TEXT.vocab.stoi[TEXT.pad_token]\n",
    "PAD_IDX_LABEL = LABEL.vocab.stoi[LABEL.pad_token]\n",
    "UNK_IDX_TEXT = TEXT.vocab.stoi[TEXT.unk_token]\n",
    "\n",
    "options = {\n",
    "    # Defaults options\n",
    "    'verbose': True,\n",
    "    'saves': True,\n",
    "    'dirsaves': 'saves_test',\n",
    "    'compare_on': 'f1_score'\n",
    "}\n",
    "\n",
    "# Hyper parameters to tune\n",
    "params_hyper = {\n",
    "    # Default parameters\n",
    "    'epochs':                    [1],\n",
    "    'batch_size':                [64],\n",
    "    'lr':                        [0.1],\n",
    "    'vectors_name':              'model.txt',\n",
    "    'vectors_url':               'http://vectors.nlpl.eu/repository/20/58.zip',\n",
    "    'use_pretrained_embeddings': True,\n",
    "}\n",
    "\n",
    "# Parameters affecting the model\n",
    "params_model = {\n",
    "    'model':         [BiLSTM, BiGRU],\n",
    "    'input_dim':     [len(TEXT.vocab)],           # Should not be modified\n",
    "    'embedding_dim': [100],                       # Should not be modified\n",
    "    'hidden_dim':    [100],      \n",
    "    'output_dim':    [len(LABEL.vocab)],          # Should not be modified\n",
    "    'n_layers':      [2],\n",
    "    'bidirectional': [True],\n",
    "    'dropout':       [0.2], \n",
    "    'pad_idx_text':  [PAD_IDX_TEXT],              # Should not be modified\n",
    "    'pad_idx_label': [PAD_IDX_LABEL],             # Should not be modified\n",
    "    'unk_idx_text':  [UNK_IDX_TEXT],              # Should not be modified\n",
    "    'embeddings':    [EMBEDDINGS]\n",
    "}                                                 # Should not be modified\n",
    "\n",
    "# Default parameters that will be used\n",
    "params_loss = {\n",
    "    'criterion':    [torch.nn.CrossEntropyLoss],\n",
    "    'ignore_index': PAD_IDX_LABEL,\n",
    "    'weight':       [torch.tensor([1, 0.06771941, 0.97660534, 0.97719714, 0.98922782, 0.98925029])]\n",
    "}\n",
    "params_optim = {\n",
    "    'optimizer': [torch.optim.Adam],\n",
    "}\n",
    "     \n",
    "tuner = Tuner(\n",
    "    params_hyper = params_hyper, \n",
    "    params_model = params_model, \n",
    "    params_loss  = params_loss,\n",
    "    params_optim = params_optim,\n",
    "    options      = options\n",
    ")"
   ]
  },
  {
   "cell_type": "code",
   "execution_count": 15,
   "metadata": {},
   "outputs": [
    {
     "name": "stdout",
     "output_type": "stream",
     "text": [
      "GridSearch(\n",
      "  (options): Parameters(saves=True, dirsaves='saves_test', compare_on='f1_score', verbose=True)\n",
      "  (session): Permutations(hyper=1, model=2, loss=1, optim=1, total=2)\n",
      ")\n",
      "\n",
      "Search n°1: BiLSTM\n",
      "Configuration(\n",
      "  (hyper): Variables(epochs=1, batch_size=64, lr=0.1, vectors_name='model.txt', vectors_url='http://vectors.nlpl.eu/repository/20/58.zip', use_pretrained_embeddings=True)\n",
      "  (model): Parameters(input_dim=23574, embedding_dim=100, hidden_dim=100, output_dim=6, n_layers=2, bidirectional=True, dropout=0.2, pad_idx_text=1, pad_idx_label=0, unk_idx_text=0)\n",
      "  (criterion): CrossEntropyLoss(ignore_index=0)\n",
      "  (optimizer): Adam()\n",
      ")\n",
      "BiLSTM(\n",
      "  (embedding): Embedding(23574, 100, padding_idx=1)\n",
      "  (lstm): LSTM(100, 100, num_layers=2, batch_first=True, dropout=0.2, bidirectional=True)\n",
      "  (fc): Linear(in_features=200, out_features=6, bias=True)\n",
      "  (dropout): Dropout(p=0.2, inplace=False)\n",
      ")\n",
      "Performances(\n",
      "  (train): Scores(loss=1.3210, accuracy=0.8926, score=0.8545, precision=0.2027, recall=0.2005, f1_score=0.1983)\n",
      "  (eval): Scores(loss=1.2134, accuracy=0.7437, score=0.5996, precision=0.1917, recall=0.3030, f1_score=0.1857)\n",
      "  (train): Mean(loss=1.3210, accuracy=0.8926, score=0.8545, precision=0.2027, recall=0.2005, f1_score=0.1983)\n",
      "  (eval) Mean(loss=1.2134, accuracy=0.7437, score=0.5996, precision=0.1917, recall=0.3030, f1_score=0.1857)\n",
      "  (train): Std(loss=0.0000, accuracy=0.0000, score=0.0000, precision=0.0000, recall=0.0000, f1_score=0.0000)\n",
      "  (eval) Std(loss=0.0000, accuracy=0.0000, score=0.0000, precision=0.0000, recall=0.0000, f1_score=0.0000)\n",
      "  (train): Max(loss=1.3210, accuracy=0.8926, score=0.8545, precision=0.2027, recall=0.2005, f1_score=0.1983)\n",
      "  (eval) Max(loss=1.2134, accuracy=0.7437, score=0.5996, precision=0.1917, recall=0.3030, f1_score=0.1857)\n",
      ")\n",
      "\n",
      "Search n°2: BiGRU\n",
      "Configuration(\n",
      "  (hyper): Variables(epochs=1, batch_size=64, lr=0.1, vectors_name='model.txt', vectors_url='http://vectors.nlpl.eu/repository/20/58.zip', use_pretrained_embeddings=True)\n",
      "  (model): Parameters(input_dim=23574, embedding_dim=100, hidden_dim=100, output_dim=6, n_layers=2, bidirectional=True, dropout=0.2, pad_idx_text=1, pad_idx_label=0, unk_idx_text=0)\n",
      "  (criterion): CrossEntropyLoss(ignore_index=0)\n",
      "  (optimizer): Adam()\n",
      ")\n",
      "BiGRU(\n",
      "  (embedding): Embedding(23574, 100, padding_idx=1)\n",
      "  (gru): GRU(100, 100, num_layers=2, batch_first=True, dropout=0.2, bidirectional=True)\n",
      "  (fc): Linear(in_features=200, out_features=6, bias=True)\n",
      "  (dropout): Dropout(p=0.2, inplace=False)\n",
      ")\n",
      "Performances(\n",
      "  (train): Scores(loss=1.2338, accuracy=0.8817, score=0.8505, precision=0.2276, recall=0.2431, f1_score=0.2158)\n",
      "  (eval): Scores(loss=1.1001, accuracy=0.8221, score=0.6884, precision=0.1750, recall=0.3210, f1_score=0.2012)\n",
      "  (train): Mean(loss=1.2338, accuracy=0.8817, score=0.8505, precision=0.2276, recall=0.2431, f1_score=0.2158)\n",
      "  (eval) Mean(loss=1.1001, accuracy=0.8221, score=0.6884, precision=0.1750, recall=0.3210, f1_score=0.2012)\n",
      "  (train): Std(loss=0.0000, accuracy=0.0000, score=0.0000, precision=0.0000, recall=0.0000, f1_score=0.0000)\n",
      "  (eval) Std(loss=0.0000, accuracy=0.0000, score=0.0000, precision=0.0000, recall=0.0000, f1_score=0.0000)\n",
      "  (train): Max(loss=1.2338, accuracy=0.8817, score=0.8505, precision=0.2276, recall=0.2431, f1_score=0.2158)\n",
      "  (eval) Max(loss=1.1001, accuracy=0.8221, score=0.6884, precision=0.1750, recall=0.3210, f1_score=0.2012)\n",
      ")\n"
     ]
    }
   ],
   "source": [
    "tuner.fit(train_iterator, eval_iterator)"
   ]
  },
  {
   "cell_type": "code",
   "execution_count": 14,
   "metadata": {},
   "outputs": [],
   "source": [
    "tuner.save()"
   ]
  },
  {
   "cell_type": "code",
   "execution_count": 16,
   "metadata": {},
   "outputs": [
    {
     "data": {
      "image/png": "[encoded data removed]",
      "text/plain": [
       "<Figure size 1440x576 with 2 Axes>"
      ]
     },
     "metadata": {},
     "output_type": "display_data"
    }
   ],
   "source": [
    "from sentarget.metrics import ConfusionMatrix\n",
    "\n",
    "fig = plt.figure(figsize=(20, 8))\n",
    "\n",
    "# confusion matrices for the first model\n",
    "matrices = tuner.results[0]['performance']['train']['confusion']\n",
    "\n",
    "N = len(matrices)  # should be equal to EPOCHS\n",
    "names = LABEL.vocab.itos[1:]  # names of classes, ignore unk and pad\n",
    "\n",
    "for i, data in enumerate(matrices):\n",
    "    plt.subplot(N//2 + N%2, 2, i+1)\n",
    "    confusion = ConfusionMatrix(data=data)\n",
    "    ax = confusion.plot(names=names, normalize=True, cbar=True)\n",
    "    plt.title(f\"Epoch: {i+1}\")\n",
    "    \n",
    "plt.show()"
   ]
  },
  {
   "cell_type": "markdown",
   "metadata": {},
   "source": [
    "# 4. Template for a grid search\n",
    "\n",
    "## 4.1. Define your grid search and limits"
   ]
  },
  {
   "cell_type": "code",
   "execution_count": 17,
   "metadata": {},
   "outputs": [],
   "source": [
    "def gridsearch(options={}, params_hyper={}, params_model={}, params_optim={}, params_loss={}):\n",
    "    \"\"\"Run the grid search algorithms on the CONLL dataset provided.\n",
    "\n",
    "    Args:\n",
    "        options (dict): general options.\n",
    "        params_hyper (dict): hyper parameters to tune.\n",
    "        params_model (dict): model's parameters to tune.\n",
    "        params_optim (dict): optimizer parameters initialization, won't be tuned.\n",
    "        params_loss (dict): criterion parameters initialization, won't be tuned.\n",
    "\n",
    "    \"\"\"\n",
    "\n",
    "    # 1/ Load the data\n",
    "    TEXT = data.Field(lower=False, include_lengths=True, batch_first=True)\n",
    "    LABEL = data.Field(batch_first=True, unk_token=None)\n",
    "    FIELDS = [(\"text\", TEXT), (\"label\", LABEL)]\n",
    "    train_data, eval_data, test_data = NoReCfine.splits(FIELDS)\n",
    "\n",
    "    # 2/ Build the vocab\n",
    "    VOCAB_SIZE = 1_200_000\n",
    "    VECTORS_NAME = params_hyper['vectors_name']\n",
    "    VECTORS_URL = params_hyper['vectors_url']\n",
    "    VECTORS = Vectors(name=VECTORS_NAME, url=VECTORS_URL)\n",
    "    TEXT.build_vocab(train_data, test_data, eval_data,\n",
    "                     max_size=VOCAB_SIZE,\n",
    "                     vectors=VECTORS,\n",
    "                     unk_init=torch.Tensor.normal_)\n",
    "    LABEL.build_vocab(train_data)\n",
    "\n",
    "    # 3/ Load iterators\n",
    "    BATCH_SIZE = params_hyper['batch_size']\n",
    "    device = torch.device('cpu')\n",
    "    train_iterator, eval_iterator, test_iterator = data.BucketIterator.splits((train_data, eval_data, test_data),\n",
    "                                                                              batch_size=BATCH_SIZE,\n",
    "                                                                              sort_within_batch=True,\n",
    "                                                                              device=device)\n",
    "    \n",
    "    # Initialize the embedding layer\n",
    "    if params_hyper['use_pretrained_embeddings']:\n",
    "        params_model['embeddings'] = TEXT.vocab.vectors\n",
    "    \n",
    "    # 4/ Grid Search\n",
    "    tuner = Tuner(\n",
    "        params_hyper = params_hyper,\n",
    "        params_model = params_model,\n",
    "        params_loss  = params_loss,\n",
    "        params_optim = params_optim,\n",
    "        options      = options\n",
    "    )\n",
    "\n",
    "    # Search\n",
    "    tuner.fit(train_iterator, eval_iterator)\n",
    "    tuner.save(dirsaves=options['dirsaves'])"
   ]
  },
  {
   "cell_type": "markdown",
   "metadata": {},
   "source": [
    "## 4.2. Load parameters from a configuration file"
   ]
  },
  {
   "cell_type": "code",
   "execution_count": 18,
   "metadata": {},
   "outputs": [],
   "source": [
    "import numpy\n",
    "import torch\n",
    "import sentarget\n",
    "import configparser\n",
    "\n",
    "\n",
    "config = configparser.ConfigParser()\n",
    "config.read('gridsearch.ini')\n",
    "\n",
    "options = {key: eval(value) for (key, value) in dict(config.items('Options')).items()}\n",
    "params_hyper = {key: eval(value) for (key, value) in dict(config.items('Hyper')).items()}\n",
    "params_model = {key: eval(value) for (key, value) in dict(config.items('Model')).items()}\n",
    "params_loss = {key: eval(value) for (key, value) in dict(config.items('Criterion')).items()}\n",
    "params_optim = {key: eval(value) for (key, value) in dict(config.items('Optimizer')).items()}"
   ]
  },
  {
   "cell_type": "markdown",
   "metadata": {},
   "source": [
    "## 4.3. Or do it manually"
   ]
  },
  {
   "cell_type": "code",
   "execution_count": 19,
   "metadata": {},
   "outputs": [],
   "source": [
    "from sentarget import Tuner\n",
    "from torchtext import data\n",
    "\n",
    "\n",
    "# General options\n",
    "options = {\n",
    "    # Defaults options\n",
    "    'verbose': True,\n",
    "    'saves': True,\n",
    "    'dirsaves': 'saves_test2',\n",
    "}\n",
    "\n",
    "# Hyper parameters to tune\n",
    "params_hyper = {\n",
    "    # Default parameters\n",
    "    'epochs':                    [1],\n",
    "    'batch_size':                [64],\n",
    "    'lr':                        [0.01],\n",
    "    'vectors_name':              'model.txt',\n",
    "    'vectors_url':               'http://vectors.nlpl.eu/repository/20/58.zip',\n",
    "    'use_pretrained_embeddings': True,\n",
    "}\n",
    "\n",
    "# Parameters affecting the models\n",
    "params_model = {\n",
    "    'model':         [sentarget.nn.models.lstm.BiLSTM, sentarget.nn.models.gru.BiGRU],\n",
    "    'input_dim':     [len(TEXT.vocab)],           # Should not be modified\n",
    "    'embedding_dim': [100],                       # Should not be modified\n",
    "    'hidden_dim':    [100],      \n",
    "    'output_dim':    [len(LABEL.vocab)],          # Should not be modified\n",
    "    'n_layers':      [2],\n",
    "    'bidirectional': [True],\n",
    "    'dropout':       [0.2], \n",
    "    'pad_idx_text':  [PAD_IDX_TEXT],              # Should not be modified\n",
    "    'pad_idx_label': [PAD_IDX_LABEL],             # Should not be modified\n",
    "    'unk_idx_text':  [UNK_IDX_TEXT],              # Should not be modified\n",
    "    'embeddings':    [EMBEDDINGS]                 # Should not be modified\n",
    "}\n",
    "\n",
    "# Default parameters that will be used\n",
    "params_loss = {\n",
    "    'criterion':    [torch.nn.CrossEntropyLoss],\n",
    "    'ignore_index': PAD_IDX_LABEL,\n",
    "    'weight':       [torch.tensor([1, 0.06771941, 0.97660534, 0.97719714, 0.98922782, 0.98925029])]\n",
    "}\n",
    "params_optim = {\n",
    "    'optimizer': [torch.optim.Adam],\n",
    "}"
   ]
  },
  {
   "cell_type": "markdown",
   "metadata": {},
   "source": [
    "# 5. Run the grid search"
   ]
  },
  {
   "cell_type": "code",
   "execution_count": 20,
   "metadata": {},
   "outputs": [
    {
     "name": "stdout",
     "output_type": "stream",
     "text": [
      "GridSearch(\n",
      "  (options): Parameters(saves=True, dirsaves='saves_test2', compare_on='accuracy', verbose=True)\n",
      "  (session): Permutations(hyper=1, model=2, loss=1, optim=1, total=2)\n",
      ")\n",
      "\n",
      "Search n°1: BiLSTM\n",
      "Configuration(\n",
      "  (hyper): Variables(epochs=1, batch_size=64, lr=0.01, vectors_name='model.txt', vectors_url='http://vectors.nlpl.eu/repository/20/58.zip', use_pretrained_embeddings=True)\n",
      "  (model): Parameters(input_dim=23574, embedding_dim=100, hidden_dim=100, output_dim=6, n_layers=2, bidirectional=True, dropout=0.2, pad_idx_text=1, pad_idx_label=0, unk_idx_text=0)\n",
      "  (criterion): CrossEntropyLoss(ignore_index=0)\n",
      "  (optimizer): Adam()\n",
      ")\n",
      "BiLSTM(\n",
      "  (embedding): Embedding(23574, 100, padding_idx=1)\n",
      "  (lstm): LSTM(100, 100, num_layers=2, batch_first=True, dropout=0.2, bidirectional=True)\n",
      "  (fc): Linear(in_features=200, out_features=6, bias=True)\n",
      "  (dropout): Dropout(p=0.2, inplace=False)\n",
      ")\n",
      "Performances(\n",
      "  (train): Scores(loss=0.5174, accuracy=0.9174, score=0.8945, precision=0.1559, recall=0.1651, f1_score=0.1603)\n",
      "  (eval): Scores(loss=0.3311, accuracy=0.9360, score=0.8073, precision=0.1559, recall=0.1667, f1_score=0.1611)\n",
      "  (train): Mean(loss=0.5174, accuracy=0.9174, score=0.8945, precision=0.1559, recall=0.1651, f1_score=0.1603)\n",
      "  (eval) Mean(loss=0.3311, accuracy=0.9360, score=0.8073, precision=0.1559, recall=0.1667, f1_score=0.1611)\n",
      "  (train): Std(loss=0.0000, accuracy=0.0000, score=0.0000, precision=0.0000, recall=0.0000, f1_score=0.0000)\n",
      "  (eval) Std(loss=0.0000, accuracy=0.0000, score=0.0000, precision=0.0000, recall=0.0000, f1_score=0.0000)\n",
      "  (train): Max(loss=0.5174, accuracy=0.9174, score=0.8945, precision=0.1559, recall=0.1651, f1_score=0.1603)\n",
      "  (eval) Max(loss=0.3311, accuracy=0.9360, score=0.8073, precision=0.1559, recall=0.1667, f1_score=0.1611)\n",
      ")\n",
      "\n",
      "Search n°2: BiGRU\n",
      "Configuration(\n",
      "  (hyper): Variables(epochs=1, batch_size=64, lr=0.01, vectors_name='model.txt', vectors_url='http://vectors.nlpl.eu/repository/20/58.zip', use_pretrained_embeddings=True)\n",
      "  (model): Parameters(input_dim=23574, embedding_dim=100, hidden_dim=100, output_dim=6, n_layers=2, bidirectional=True, dropout=0.2, pad_idx_text=1, pad_idx_label=0, unk_idx_text=0)\n",
      "  (criterion): CrossEntropyLoss(ignore_index=0)\n",
      "  (optimizer): Adam()\n",
      ")\n",
      "BiGRU(\n",
      "  (embedding): Embedding(23574, 100, padding_idx=1)\n",
      "  (gru): GRU(100, 100, num_layers=2, batch_first=True, dropout=0.2, bidirectional=True)\n",
      "  (fc): Linear(in_features=200, out_features=6, bias=True)\n",
      "  (dropout): Dropout(p=0.2, inplace=False)\n",
      ")\n",
      "Performances(\n",
      "  (train): Scores(loss=0.4556, accuracy=0.9244, score=0.8886, precision=0.1715, recall=0.1659, f1_score=0.1624)\n",
      "  (eval): Scores(loss=0.3104, accuracy=0.9362, score=0.8077, precision=0.2948, recall=0.1705, f1_score=0.1686)\n",
      "  (train): Mean(loss=0.4556, accuracy=0.9244, score=0.8886, precision=0.1715, recall=0.1659, f1_score=0.1624)\n",
      "  (eval) Mean(loss=0.3104, accuracy=0.9362, score=0.8077, precision=0.2948, recall=0.1705, f1_score=0.1686)\n",
      "  (train): Std(loss=0.0000, accuracy=0.0000, score=0.0000, precision=0.0000, recall=0.0000, f1_score=0.0000)\n",
      "  (eval) Std(loss=0.0000, accuracy=0.0000, score=0.0000, precision=0.0000, recall=0.0000, f1_score=0.0000)\n",
      "  (train): Max(loss=0.4556, accuracy=0.9244, score=0.8886, precision=0.1715, recall=0.1659, f1_score=0.1624)\n",
      "  (eval) Max(loss=0.3104, accuracy=0.9362, score=0.8077, precision=0.2948, recall=0.1705, f1_score=0.1686)\n",
      ")\n"
     ]
    }
   ],
   "source": [
    "gridsearch(\n",
    "    params_hyper = params_hyper, \n",
    "    params_model = params_model, \n",
    "    params_loss  = params_loss, \n",
    "    params_optim = params_optim,\n",
    "    options      = options\n",
    ")"
   ]
  },
  {
   "cell_type": "markdown",
   "metadata": {},
   "source": [
    "# Analysis"
   ]
  },
  {
   "cell_type": "code",
   "execution_count": null,
   "metadata": {},
   "outputs": [],
   "source": [
    "import json\n",
    "\n",
    "with open('saves_test/gridsearch.json') as f:\n",
    "    results = json.load(f)"
   ]
  },
  {
   "cell_type": "code",
   "execution_count": null,
   "metadata": {},
   "outputs": [],
   "source": [
    "# First model...\n",
    "plt.plot(results[\"results\"][0][\"performance\"][\"train\"][\"accuracy\"])\n",
    "# Second...\n",
    "plt.plot(results[\"results\"][1][\"performance\"][\"train\"][\"accuracy\"])"
   ]
  },
  {
   "cell_type": "code",
   "execution_count": null,
   "metadata": {},
   "outputs": [],
   "source": []
  }
 ],
 "metadata": {
  "kernelspec": {
   "display_name": "Python 3",
   "language": "python",
   "name": "python3"
  },
  "language_info": {
   "codemirror_mode": {
    "name": "ipython",
    "version": 3
   },
   "file_extension": ".py",
   "mimetype": "text/x-python",
   "name": "python",
   "nbconvert_exporter": "python",
   "pygments_lexer": "ipython3",
   "version": "3.7.4"
  }
 },
 "nbformat": 4,
 "nbformat_minor": 4
}
