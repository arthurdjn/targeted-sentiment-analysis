{
 "cells": [
  {
   "cell_type": "markdown",
   "metadata": {},
   "source": [
    "# **Targeted Sentiment Analysis**, *a.k.a. Aspect Based Sentiment Analysis (ABSA).*\n",
    "\n",
    "### Overview\n",
    "\n",
    "This notebook higlights some differences with the baseline provided by the University of Oslo and PyTorch standards.\n",
    "Some classes are re-defined, and is a bit confusing as pytorch offers the same, in better. In addition, some elements are not transformed correctly with the script provided.\n",
    "\n",
    "### Goal\n",
    "\n",
    "Set up a PyTorch script, doing the same (but different) than UiO baseline script."
   ]
  },
  {
   "cell_type": "markdown",
   "metadata": {},
   "source": [
    "# **0. Set Up**\n",
    "\n",
    "Before diving in the models, let's reload the notebook to keep it updated."
   ]
  },
  {
   "cell_type": "code",
   "execution_count": 1,
   "metadata": {},
   "outputs": [],
   "source": [
    "import matplotlib.pyplot as plt\n",
    "\n",
    "# This is a bit of magic to make matplotlib figures appear inline in the notebook\n",
    "# rather than in a new window.\n",
    "%matplotlib inline\n",
    "plt.rcParams['figure.figsize'] = (10.0, 8) # set default size of plots\n",
    "plt.rcParams['image.interpolation'] = 'nearest'\n",
    "plt.style.use('seaborn-darkgrid')\n",
    "\n",
    "# Some more magic so that the notebook will reload external python modules;\n",
    "# see http://stackoverflow.com/questions/1907993/autoreload-of-modules-in-ipython\n",
    "%load_ext autoreload\n",
    "%autoreload 2"
   ]
  },
  {
   "cell_type": "markdown",
   "metadata": {},
   "source": [
    "Then, let's load the dependencies:"
   ]
  },
  {
   "cell_type": "code",
   "execution_count": 2,
   "metadata": {},
   "outputs": [],
   "source": [
    "# PyTorch\n",
    "import torch\n",
    "import torch.nn as nn\n",
    "import torch.optim as optim\n",
    "from torchtext import data\n",
    "from torchtext import datasets\n",
    "\n",
    "from torch.nn.utils.rnn import pad_packed_sequence, PackedSequence\n",
    "from torch.utils.data import DataLoader\n",
    "\n",
    "# Data science\n",
    "import spacy\n",
    "import numpy as np\n",
    "import time\n",
    "import random"
   ]
  },
  {
   "cell_type": "code",
   "execution_count": 3,
   "metadata": {},
   "outputs": [],
   "source": [
    "#Let's not forget to fix the seed for random generated numbers !\n",
    "SEED = 2020 \n",
    "\n",
    "random.seed(SEED)\n",
    "np.random.seed(SEED)\n",
    "torch.manual_seed(SEED)\n",
    "torch.backends.cudnn.deterministic = True"
   ]
  },
  {
   "cell_type": "markdown",
   "metadata": {},
   "source": [
    "# **Baseline**\n",
    "\n",
    "\n",
    "# 1. Dataset\n",
    "\n",
    "### 1.1. NoReC fine"
   ]
  },
  {
   "cell_type": "code",
   "execution_count": 4,
   "metadata": {},
   "outputs": [],
   "source": [
    "from torchtext.datasets import SequenceTaggingDataset\n",
    "\n",
    "\n",
    "class NoReCfine(SequenceTaggingDataset):\n",
    "    def __init__(self, path, fields, encoding=\"utf-8\", separator=\"\\t\", **kwargs):\n",
    "        super().__init__(path, fields)\n",
    "\n",
    "    @classmethod\n",
    "    def splits(cls, fields, train_data=\"data/train.conll\", dev_data=\"data/dev.conll\", test_data=\"data/test.conll\"):\n",
    "        return NoReCfine(train_data, fields), NoReCfine(dev_data, fields), NoReCfine(test_data, fields)"
   ]
  },
  {
   "cell_type": "code",
   "execution_count": 5,
   "metadata": {},
   "outputs": [],
   "source": [
    "import torchtext\n",
    "\n",
    "TEXT = torchtext.data.Field(lower=False, include_lengths=True, batch_first=True)\n",
    "LABEL = torchtext.data.Field(batch_first=True, unk_token=None)\n",
    "FIELDS = [(\"text\", TEXT), (\"label\", LABEL)]\n",
    "\n",
    "train_data, eval_data, test_data = NoReCfine.splits(FIELDS)"
   ]
  },
  {
   "cell_type": "code",
   "execution_count": 6,
   "metadata": {},
   "outputs": [
    {
     "name": "stdout",
     "output_type": "stream",
     "text": [
      "Number of training examples: 5,915\n",
      "Number of training examples: 1,151\n",
      "Number of testing examples:    895\n",
      "\n",
      "Number of sentences in train_data.text: 5915\n",
      "Number of words in train_data: 98,483\n"
     ]
    }
   ],
   "source": [
    "print(f'Number of training examples: {len(train_data):,}')\n",
    "print(f'Number of training examples: {len(eval_data):,}')\n",
    "print(f'Number of testing examples:    {len(test_data)}')\n",
    "\n",
    "text_length = [len(sentence) for sentence in list(train_data.text)]\n",
    "\n",
    "print(f\"\\nNumber of sentences in train_data.text: {len(text_length)}\")\n",
    "print(f'Number of words in train_data: {sum(text_length):,}')"
   ]
  },
  {
   "cell_type": "code",
   "execution_count": 7,
   "metadata": {},
   "outputs": [
    {
     "name": "stdout",
     "output_type": "stream",
     "text": [
      "What's inside the training data:\n",
      "{'text': ['Lite', 'tight', 'Tempah'], 'label': ['O', 'O', 'B-targ-Negative']}\n"
     ]
    }
   ],
   "source": [
    "print(\"What's inside the training data:\")\n",
    "print(vars(train_data[0]))"
   ]
  },
  {
   "cell_type": "markdown",
   "metadata": {},
   "source": [
    "### 1.2. Vocabulary"
   ]
  },
  {
   "cell_type": "code",
   "execution_count": 8,
   "metadata": {},
   "outputs": [],
   "source": [
    "from torchtext.vocab import Vectors\n",
    "\n",
    "VOCAB_SIZE = 1_200_000\n",
    "VECTORS = Vectors(name='model.txt')\n",
    "\n",
    "# Create the vocabulary for words embeddings\n",
    "TEXT.build_vocab(train_data, \n",
    "                 max_size = VOCAB_SIZE, \n",
    "                 vectors = VECTORS, \n",
    "                 unk_init = torch.Tensor.normal_)\n",
    "\n",
    "LABEL.build_vocab(train_data)"
   ]
  },
  {
   "cell_type": "markdown",
   "metadata": {},
   "source": [
    "### 1.2. Data Analysis"
   ]
  },
  {
   "cell_type": "code",
   "execution_count": 9,
   "metadata": {},
   "outputs": [
    {
     "data": {
      "text/plain": [
       "torch.Size([1182371, 100])"
      ]
     },
     "execution_count": 9,
     "metadata": {},
     "output_type": "execute_result"
    }
   ],
   "source": [
    "VECTORS.vectors.shape"
   ]
  },
  {
   "cell_type": "code",
   "execution_count": 10,
   "metadata": {},
   "outputs": [
    {
     "data": {
      "text/plain": [
       "torch.Size([19192, 100])"
      ]
     },
     "execution_count": 10,
     "metadata": {},
     "output_type": "execute_result"
    }
   ],
   "source": [
    "TEXT.vocab.vectors.shape"
   ]
  },
  {
   "cell_type": "code",
   "execution_count": 11,
   "metadata": {},
   "outputs": [
    {
     "name": "stdout",
     "output_type": "stream",
     "text": [
      "Vocabulary defined on the training data, with the help of pre-trained embeddings:\n",
      "\n",
      "['<unk>', '<pad>', '.', ',', 'og', 'er', 'i', 'som', 'en', 'det', 'på', 'å', 'av', 'med', 'til', 'for', '«', '»', 'har', 'den']\n"
     ]
    }
   ],
   "source": [
    "print(\"Vocabulary defined on the training data, with the help of pre-trained embeddings:\\n\")\n",
    "\n",
    "print(TEXT.vocab.itos[0:20])"
   ]
  },
  {
   "cell_type": "code",
   "execution_count": 12,
   "metadata": {},
   "outputs": [
    {
     "name": "stdout",
     "output_type": "stream",
     "text": [
      "The word 'Martel' is not part of the pre-trained embeddings.\n",
      "\n",
      "PyTorch sets its vector to zero:\n",
      "tensor([0., 0., 0., 0., 0., 0., 0., 0., 0., 0., 0., 0., 0., 0., 0., 0., 0., 0., 0., 0., 0., 0., 0., 0.,\n",
      "        0., 0., 0., 0., 0., 0., 0., 0., 0., 0., 0., 0., 0., 0., 0., 0., 0., 0., 0., 0., 0., 0., 0., 0.,\n",
      "        0., 0., 0., 0., 0., 0., 0., 0., 0., 0., 0., 0., 0., 0., 0., 0., 0., 0., 0., 0., 0., 0., 0., 0.,\n",
      "        0., 0., 0., 0., 0., 0., 0., 0., 0., 0., 0., 0., 0., 0., 0., 0., 0., 0., 0., 0., 0., 0., 0., 0.,\n",
      "        0., 0., 0., 0.])\n"
     ]
    }
   ],
   "source": [
    "print(f\"The word '{TEXT.vocab.itos[8867]}' is not part of the pre-trained embeddings.\\n\")\n",
    "\n",
    "print(f\"PyTorch sets its vector to zero:\\n{TEXT.vocab.vectors[8867]}\")"
   ]
  },
  {
   "cell_type": "code",
   "execution_count": 13,
   "metadata": {},
   "outputs": [
    {
     "name": "stdout",
     "output_type": "stream",
     "text": [
      "Vocabulary informations:\n",
      "\n",
      "Labels vocabulary:\n",
      "['<pad>', 'O', 'I-targ-Positive', 'B-targ-Positive', 'I-targ-Negative', 'B-targ-Negative']\n",
      "\n",
      "Text vocabulary:\n",
      "['<unk>', '<pad>', '.', ',', 'og', 'er', 'i', 'som', 'en', 'det']\n",
      "\n",
      "Most frequent words:\n",
      "[('.', 4585), (',', 4085), ('og', 2878), ('er', 2326), ('i', 2071), ('som', 1699), ('en', 1628), ('på', 1318), ('det', 1318), ('å', 1222)]\n"
     ]
    }
   ],
   "source": [
    "print(\"Vocabulary informations:\\n\")\n",
    "print(f\"Labels vocabulary:\\n{LABEL.vocab.itos}\\n\")\n",
    "print(f\"Text vocabulary:\\n{TEXT.vocab.itos[:10]}\\n\")\n",
    "print(f\"Most frequent words:\\n{TEXT.vocab.freqs.most_common(10)}\")"
   ]
  },
  {
   "cell_type": "markdown",
   "metadata": {},
   "source": [
    "### 1.3. Iterators"
   ]
  },
  {
   "cell_type": "code",
   "execution_count": 14,
   "metadata": {},
   "outputs": [],
   "source": [
    "BATCH_SIZE = 64\n",
    "\n",
    "device = torch.device('cpu')\n",
    "\n",
    "train_iterator, eval_iterator, test_iterator = data.BucketIterator.splits(\n",
    "    (train_data, eval_data, test_data), \n",
    "    batch_size = BATCH_SIZE,\n",
    "    sort_within_batch = True,\n",
    "    device = device)"
   ]
  },
  {
   "cell_type": "markdown",
   "metadata": {},
   "source": [
    "# 2. Model\n",
    "\n",
    "### 2.1. BiLSTM"
   ]
  },
  {
   "cell_type": "code",
   "execution_count": 15,
   "metadata": {},
   "outputs": [],
   "source": [
    "class BiLSTM(nn.Module):\n",
    "\n",
    "    def __init__(self,\n",
    "                 input_dim,\n",
    "                 embedding_dim=100,\n",
    "                 hidden_dim=128,\n",
    "                 output_dim=7,\n",
    "                 n_layers=2,\n",
    "                 bidirectional=True,\n",
    "                 dropout=0.25,\n",
    "                 pad_idx_text=1,\n",
    "                 unk_idx_text=0,\n",
    "                 pad_idx_label=0,\n",
    "                 embeddings=None):\n",
    "        super().__init__()\n",
    "        # dimensions\n",
    "        self.embedding_dim = embedding_dim\n",
    "        self.output_dim = output_dim\n",
    "\n",
    "        # modules\n",
    "        self.embedding = nn.Embedding(input_dim, embedding_dim, padding_idx=pad_idx_text)\n",
    "        self.lstm = nn.LSTM(embedding_dim, hidden_dim, n_layers, bidirectional=bidirectional, batch_first=True,\n",
    "                            dropout=dropout)\n",
    "        self.fc = nn.Linear(hidden_dim * 2 if bidirectional else hidden_dim, output_dim)\n",
    "        self.dropout = nn.Dropout(dropout)\n",
    "\n",
    "        if embeddings is not None:\n",
    "            ignore_index = [idx for idx in [pad_idx_text, unk_idx_text] if idx is not None]\n",
    "            self.init_embeddings(embeddings, ignore_index=ignore_index)\n",
    "\n",
    "        # tokens\n",
    "        self.pad_idx_text = pad_idx_text\n",
    "        self.pad_idx_label = pad_idx_label\n",
    "        self.unk_idx_text = unk_idx_text\n",
    "\n",
    "    def init_embeddings(self, embeddings, ignore_index=None):\n",
    "        r\"\"\"Initialize the embeddings vectors from pre-trained embeddings vectors.\n",
    "\n",
    "        .. Warning::\n",
    "\n",
    "            By default, the embeddings will set to zero the tokens at indices 0 and 1,\n",
    "            that should corresponds to <pad> and <unk>.\n",
    "\n",
    "\n",
    "        Examples::\n",
    "\n",
    "            >>> # TEXT: field used to extract text, sentences etc.\n",
    "            >>> PAD_IDX = TEXT.vocab.stoi[TEXT.pad_token]\n",
    "            >>> UNK_IDX = TEXT.vocab.stoi[TEXT.unk_token]\n",
    "            >>> pretrained_embeddings = TEXT.vocab.vectors\n",
    "\n",
    "            >>> model.init_embeddings(pretrained_embeddings, ignore_index=[PAD_IDX, UNK_IDX])\n",
    "\n",
    "\n",
    "        Args:\n",
    "            embeddings (torch.tensor): pre-trained word embeddings, of shape ``(input_dim, embedding_dim)``.\n",
    "            ignore_index (int or iterable): if not `None`, set to zeros tensors at the indices provided.\n",
    "\n",
    "        \"\"\"\n",
    "        self.embedding.weight.data.copy_(embeddings)\n",
    "        if ignore_index is not None:\n",
    "            if isinstance(ignore_index, int):\n",
    "                self.embedding.weight.data[ignore_index] = torch.zeros(self.embedding_dim)\n",
    "            elif isinstance(ignore_index, list) or isinstance(ignore_index, tuple):\n",
    "                for index in ignore_index:\n",
    "                    self.embedding.weight.data[index] = torch.zeros(self.embedding_dim)\n",
    "            elif isinstance(ignore_index, dict):\n",
    "                raise KeyError(\"Ambiguous `ignore_index` provided. \"\n",
    "                               \"Please provide an iterable like a `list` or `tuple`.\")\n",
    "\n",
    "    def forward(self, text, length):\n",
    "        r\"\"\"One forward step.\n",
    "\n",
    "        .. note::\n",
    "\n",
    "            The forward propagation requires text's length, so a padded pack can be applied to batches.\n",
    "\n",
    "        Args:\n",
    "            text (torch.tensor): text composed of word embeddings vectors from one batch.\n",
    "            length (torch.tensor): vector indexing the lengths of `text`.\n",
    "\n",
    "\n",
    "        Examples::\n",
    "\n",
    "            >>> for batch in data_iterator:\n",
    "            >>>     text, length = batch.text\n",
    "            >>>     model.forward(text, length)\n",
    "\n",
    "        \"\"\"\n",
    "        # Word embeddings\n",
    "        embeddings = self.embedding(text)\n",
    "        # Apply a dropout\n",
    "        embedded = self.dropout(embeddings)\n",
    "        # Pack and pad a batch\n",
    "        packedembeds = nn.utils.rnn.pack_padded_sequence(embedded, length, batch_first=True)\n",
    "        # Apply the recurrent cell\n",
    "        packed_output, h_n = self.lstm(packedembeds)\n",
    "        # Predict\n",
    "        output = nn.utils.rnn.pad_packed_sequence(packed_output, batch_first=True)[0]\n",
    "        # Apply another dropout and a linear layer for classification tasks\n",
    "        predictions = self.fc(self.dropout(output))\n",
    "\n",
    "        return predictions"
   ]
  },
  {
   "cell_type": "code",
   "execution_count": 16,
   "metadata": {},
   "outputs": [],
   "source": [
    "INPUT_DIM = len(TEXT.vocab)\n",
    "EMBEDDING_DIM = 100\n",
    "HIDDEN_DIM = 128\n",
    "OUTPUT_DIM = len(LABEL.vocab)\n",
    "N_LAYERS = 2\n",
    "BIDIRECTIONAL = True\n",
    "DROPOUT = 0.25\n",
    "PAD_IDX_TEXT = TEXT.vocab.stoi[TEXT.pad_token]\n",
    "UNK_IDX_TEXT = TEXT.vocab.stoi[TEXT.unk_token]\n",
    "PAD_IDX_LABEL = LABEL.vocab.stoi[LABEL.pad_token]\n",
    "\n",
    "\n",
    "model = BiLSTM(INPUT_DIM, \n",
    "               EMBEDDING_DIM, \n",
    "               HIDDEN_DIM, \n",
    "               OUTPUT_DIM, \n",
    "               N_LAYERS, \n",
    "               BIDIRECTIONAL, \n",
    "               DROPOUT, \n",
    "               pad_idx_text = PAD_IDX_TEXT,\n",
    "               unk_idx_text = UNK_IDX_TEXT,\n",
    "               pad_idx_label = PAD_IDX_LABEL)"
   ]
  },
  {
   "cell_type": "markdown",
   "metadata": {},
   "source": [
    "Next, we define our loss function, cross-entropy loss.\n",
    "\n",
    "Even though we have no `<unk>` tokens within our tag vocab, we still have `<pad>` tokens. This is because all sentences within a batch need to be the same size. However, we don't want to calculate the loss when the target is a `<pad>` token as we aren't training our model to recognize padding tokens.\n",
    "\n",
    "We handle this by setting the `ignore_index` in our loss function to the index of the padding token in our tag vocabulary."
   ]
  },
  {
   "cell_type": "code",
   "execution_count": 17,
   "metadata": {},
   "outputs": [],
   "source": [
    "optimizer = optim.Adam(model.parameters())\n",
    "criterion = nn.CrossEntropyLoss(ignore_index = PAD_IDX_LABEL)\n",
    "\n",
    "model = model           #.to(device)\n",
    "criterion = criterion   #.to(device)"
   ]
  },
  {
   "cell_type": "markdown",
   "metadata": {},
   "source": [
    "### 2.2. Initialize weights with pretrained vectors "
   ]
  },
  {
   "cell_type": "code",
   "execution_count": 18,
   "metadata": {},
   "outputs": [
    {
     "name": "stdout",
     "output_type": "stream",
     "text": [
      "torch.Size([19192, 100])\n"
     ]
    }
   ],
   "source": [
    "pretrained_embeddings = TEXT.vocab.vectors\n",
    "\n",
    "print(pretrained_embeddings.shape)"
   ]
  },
  {
   "cell_type": "code",
   "execution_count": 19,
   "metadata": {},
   "outputs": [
    {
     "data": {
      "text/plain": [
       "tensor([[ 0.0000,  0.0000,  0.0000,  ...,  0.0000,  0.0000,  0.0000],\n",
       "        [ 0.0000,  0.0000,  0.0000,  ...,  0.0000,  0.0000,  0.0000],\n",
       "        [ 0.0693,  0.0041,  0.2020,  ...,  0.1263,  0.0421,  0.0982],\n",
       "        ...,\n",
       "        [ 0.0000,  0.0000,  0.0000,  ...,  0.0000,  0.0000,  0.0000],\n",
       "        [ 0.7025,  0.0027,  0.5114,  ...,  0.6630, -0.1983, -0.4008],\n",
       "        [ 0.0000,  0.0000,  0.0000,  ...,  0.0000,  0.0000,  0.0000]])"
      ]
     },
     "execution_count": 19,
     "metadata": {},
     "output_type": "execute_result"
    }
   ],
   "source": [
    "model.embedding.weight.data.copy_(pretrained_embeddings)"
   ]
  },
  {
   "cell_type": "markdown",
   "metadata": {},
   "source": [
    "As our `<unk>` and `<pad>` token aren't in the pre-trained vocabulary they have been initialized using `unk_init` (an $\\mathcal{N}(0,1)$ distribution) when building our vocab. It is preferable to initialize them both to all zeros to explicitly tell our model that, initially, they are irrelevant for determining sentiment. \n",
    "\n",
    "We do this by manually setting their row in the embedding weights matrix to zeros. We get their row by finding the index of the tokens, which we have already done for the padding index.\n",
    "\n",
    "**Note**: like initializing the embeddings, this should be done on the `weight.data` and not the `weight`!"
   ]
  },
  {
   "cell_type": "code",
   "execution_count": 20,
   "metadata": {},
   "outputs": [
    {
     "name": "stdout",
     "output_type": "stream",
     "text": [
      "tensor([[ 0.0000,  0.0000,  0.0000,  ...,  0.0000,  0.0000,  0.0000],\n",
      "        [ 0.0000,  0.0000,  0.0000,  ...,  0.0000,  0.0000,  0.0000],\n",
      "        [ 0.0693,  0.0041,  0.2020,  ...,  0.1263,  0.0421,  0.0982],\n",
      "        ...,\n",
      "        [ 0.0000,  0.0000,  0.0000,  ...,  0.0000,  0.0000,  0.0000],\n",
      "        [ 0.7025,  0.0027,  0.5114,  ...,  0.6630, -0.1983, -0.4008],\n",
      "        [ 0.0000,  0.0000,  0.0000,  ...,  0.0000,  0.0000,  0.0000]])\n"
     ]
    }
   ],
   "source": [
    "# Reminder:\n",
    "# PAD_IDX_TEXT = TEXT.vocab.stoi[TEXT.pad_token]\n",
    "# UNK_IDX_TEXT = TEXT.vocab.stoi[TEXT.unk_token]\n",
    "# PAD_IDX_LABEL = LABEL.vocab.stoi[LABEL.pad_token]\n",
    "\n",
    "model.embedding.weight.data[UNK_IDX_TEXT] = torch.zeros(EMBEDDING_DIM)\n",
    "model.embedding.weight.data[PAD_IDX_TEXT] = torch.zeros(EMBEDDING_DIM)\n",
    "\n",
    "print(model.embedding.weight.data)"
   ]
  },
  {
   "cell_type": "markdown",
   "metadata": {},
   "source": [
    "We can now see the first two rows of the embedding weights matrix have been set to zeros. As we passed the index of the pad token to the `padding_idx` of the embedding layer it will remain zeros throughout training, however the `<unk>` token embedding will be learned."
   ]
  },
  {
   "cell_type": "markdown",
   "metadata": {},
   "source": [
    "# 3. Training"
   ]
  },
  {
   "cell_type": "code",
   "execution_count": 21,
   "metadata": {},
   "outputs": [],
   "source": [
    "from sentarget.utils import progress_bar, describe_dict\n",
    "from sentarget.nn import Solver\n",
    "from sentarget.metrics import ConfusionMatrix\n",
    "\n",
    "class SolverBiLSTM(Solver):\n",
    "    # Performer for the bidirectional LSTM model\n",
    "    \n",
    "    def __init__(self, model=None, criterion=None, optimizer=None):\n",
    "        super().__init__(model, criterion, optimizer)\n",
    "    \n",
    "    def get_accuracy(self, y_tilde, y, pad_idx_label=0):\n",
    "        r\"\"\"Computes the accuracy from a set of predictions and gold labels.\n",
    "\n",
    "        Args:\n",
    "            y_tilde (torch.tensor): predictions.\n",
    "            y (torch.tensor): gold labels.\n",
    "\n",
    "        Returns:\n",
    "            torch.tensor: the global accuracy, of shape 0.\n",
    "\n",
    "        \"\"\"\n",
    "        non_pad_elements = (y != pad_idx_label).nonzero()\n",
    "        correct = y_tilde[non_pad_elements].squeeze(1).eq(y[non_pad_elements])\n",
    "        top = correct.sum()\n",
    "        bottom = torch.FloatTensor([y[non_pad_elements].shape[0]])\n",
    "        accuracy = correct.sum() / torch.FloatTensor([y[non_pad_elements].shape[0]])\n",
    "        # Handles division by 0\n",
    "        accuracy = accuracy if not torch.isnan(accuracy) else torch.tensor(0)\n",
    "        return accuracy\n",
    "\n",
    "    def train(self, iterator, pad_idx_label=0, verbose=True):\n",
    "        r\"\"\"Train one time the model on iterator data.\n",
    "\n",
    "        Args:\n",
    "            iterator (Iterator): iterator containing batch samples of data.\n",
    "            pad_idx_label (int): index of padding elements.\n",
    "            verbose (bool): if `True` display a progress bar.\n",
    "\n",
    "        Returns:\n",
    "            dict: the performance and metrics of the training session.\n",
    "\n",
    "        \"\"\"\n",
    "        # Initialize the variables\n",
    "        start_time = time.time()\n",
    "        epoch_loss = 0\n",
    "        epoch_acc = 0\n",
    "        class_labels = list(range(self.model.output_dim))\n",
    "        class_labels.pop(self.model.pad_idx_label)\n",
    "        confusion_matrix = ConfusionMatrix(labels=class_labels)\n",
    "\n",
    "        # Train mode\n",
    "        self.model.train()\n",
    "        for (idx, batch) in enumerate(iterator):\n",
    "            self.optimizer.zero_grad()\n",
    "            # One forward step\n",
    "            text, length = batch.text\n",
    "            y_hat = self.model.forward(text, length)\n",
    "            y_hat = y_hat.view(-1, y_hat.shape[-1])\n",
    "            label = batch.label.view(-1)\n",
    "            # Get the predicted classes\n",
    "            y_tilde = y_hat.argmax(dim=1, keepdim=True)\n",
    "            # Compute the loss and update the weights\n",
    "            loss = self.criterion(y_hat, label)\n",
    "            loss.backward()\n",
    "            self.optimizer.step()\n",
    "            epoch_loss += loss.item()\n",
    "            # Default accuracy\n",
    "            acc = self.get_accuracy(y_tilde, label)\n",
    "            epoch_acc += acc.item()\n",
    "            # Optional: display a progress bar\n",
    "            if verbose:\n",
    "                progress_bar(idx, len(iterator) - 1, prefix=\"Training:\\t\", start_time=start_time)\n",
    "\n",
    "            # Update the confusion matrix\n",
    "            confusion_matrix.update(label.long().numpy(), y_tilde.long().numpy())\n",
    "\n",
    "        # Store the loss, accuracy and metrics in a dictionary\n",
    "        results_train = {\"loss\": epoch_loss / len(iterator),\n",
    "                         \"accuracy\": epoch_acc / len(iterator),\n",
    "                         **confusion_matrix.to_dict()\n",
    "                         }\n",
    "\n",
    "        return results_train\n",
    "\n",
    "    def evaluate(self, iterator, pad_idx_label=0, verbose=True):\n",
    "        r\"\"\"Evaluate one time the model on iterator data.\n",
    "\n",
    "        Args:\n",
    "            iterator (Iterator): iterator containing batch samples of data.\n",
    "            pad_idx_label (int): index of padding elements.\n",
    "            verbose (bool): if `True` display a progress bar.\n",
    "\n",
    "        Returns:\n",
    "            dict: the performance and metrics of the training session.\n",
    "\n",
    "        \"\"\"\n",
    "        # Initialize the variables\n",
    "        start_time = time.time()\n",
    "        epoch_loss = 0\n",
    "        epoch_acc = 0\n",
    "        class_labels = list(range(self.model.output_dim))\n",
    "        class_labels.pop(self.model.pad_idx_label)\n",
    "        confusion_matrix = ConfusionMatrix(labels=class_labels)\n",
    "        \n",
    "        # Eval mode\n",
    "        self.model.eval()\n",
    "        with torch.no_grad():\n",
    "            for (idx, batch) in enumerate(iterator):\n",
    "                # One forward step\n",
    "                text, length = batch.text\n",
    "                y_hat = self.model.forward(text, length)\n",
    "                y_hat = y_hat.view(-1, y_hat.shape[-1])\n",
    "                label = batch.label.view(-1)\n",
    "                # Get the predicted classes\n",
    "                y_tilde = y_hat.argmax(dim=1, keepdim=True)\n",
    "                # Compute the loss\n",
    "                loss = self.criterion(y_hat, label)\n",
    "                epoch_loss += loss.item()\n",
    "                # Default accuracy\n",
    "                acc = self.get_accuracy(y_tilde, label)\n",
    "                epoch_acc += acc.item()\n",
    "                # Optional: display a progress bar\n",
    "                if verbose:\n",
    "                    progress_bar(idx, len(iterator) - 1, prefix=\"Evaluation:\\t\", start_time=start_time)\n",
    "\n",
    "                # Update the confusion matrix\n",
    "                confusion_matrix.update(label.numpy(), y_tilde.numpy())\n",
    "\n",
    "        # Store the loss, accuracy and metrics in a dictionary\n",
    "        results_eval = {\"loss\": epoch_loss / len(iterator),\n",
    "                        \"accuracy\": epoch_acc / len(iterator),\n",
    "                        **confusion_matrix.to_dict()\n",
    "                        }\n",
    "\n",
    "        return results_eval"
   ]
  },
  {
   "cell_type": "code",
   "execution_count": 22,
   "metadata": {},
   "outputs": [],
   "source": [
    "solver = SolverBiLSTM(model, criterion=criterion, optimizer=optimizer)"
   ]
  },
  {
   "cell_type": "code",
   "execution_count": 23,
   "metadata": {},
   "outputs": [
    {
     "name": "stdout",
     "output_type": "stream",
     "text": [
      "Epoch:\t  1/5\n",
      "Training:\t 100% | [==================================================] | Time:  1m 35s | Done !\n",
      "Evaluation:\t 100% | [==================================================] | Time:  0m  2s | Done !\n",
      "\t Stats Train: | Loss: 0.4787 | Accu: 0.9227 | Scor: 0.8972 | Prec: 0.1581 | Reca: 0.1668 | F1_s: 0.1616\n",
      "\t  Stats Eval: | Loss: 0.3205 | Accu: 0.9360 | Scor: 0.8073 | Prec: 0.1559 | Reca: 0.1667 | F1_s: 0.1611\n",
      "\n",
      "Epoch:\t  2/5\n",
      "Training:\t 100% | [==================================================] | Time:  1m 32s | Done !\n",
      "Evaluation:\t 100% | [==================================================] | Time:  0m  2s | Done !\n",
      "\t Stats Train: | Loss: 0.2828 | Accu: 0.9386 | Scor: 0.9065 | Prec: 0.1514 | Reca: 0.1667 | F1_s: 0.1587\n",
      "\t  Stats Eval: | Loss: 0.2795 | Accu: 0.9360 | Scor: 0.8073 | Prec: 0.1346 | Reca: 0.1667 | F1_s: 0.1489\n",
      "\n",
      "Epoch:\t  3/5\n",
      "Training:\t 100% | [==================================================] | Time:  1m 32s | Done !\n",
      "Evaluation:\t 100% | [==================================================] | Time:  0m  2s | Done !\n",
      "\t Stats Train: | Loss: 0.2369 | Accu: 0.9391 | Scor: 0.9072 | Prec: 0.2971 | Reca: 0.1805 | F1_s: 0.1837\n",
      "\t  Stats Eval: | Loss: 0.2755 | Accu: 0.9360 | Scor: 0.8073 | Prec: 0.3012 | Reca: 0.1682 | F1_s: 0.1519\n",
      "\n",
      "Epoch:\t  4/5\n",
      "Training:\t 100% | [==================================================] | Time:  1m 30s | Done !\n",
      "Evaluation:\t 100% | [==================================================] | Time:  0m  2s | Done !\n",
      "\t Stats Train: | Loss: 0.2026 | Accu: 0.9419 | Scor: 0.9105 | Prec: 0.3048 | Reca: 0.2320 | F1_s: 0.2501\n",
      "\t  Stats Eval: | Loss: 0.2525 | Accu: 0.9299 | Scor: 0.7996 | Prec: 0.2425 | Reca: 0.2474 | F1_s: 0.2364\n",
      "\n",
      "Epoch:\t  5/5\n",
      "Training:\t 100% | [==================================================] | Time:  1m 34s | Done !\n",
      "Evaluation:\t 100% | [==================================================] | Time:  0m  2s | Done !\n",
      "\t Stats Train: | Loss: 0.1697 | Accu: 0.9474 | Scor: 0.9150 | Prec: 0.3128 | Reca: 0.2910 | F1_s: 0.2995\n",
      "\t  Stats Eval: | Loss: 0.2582 | Accu: 0.9250 | Scor: 0.7924 | Prec: 0.2365 | Reca: 0.2796 | F1_s: 0.2507\n",
      "\n"
     ]
    }
   ],
   "source": [
    "# Train & eval EPOCHS times\n",
    "EPOCHS = 5\n",
    "solver.fit(train_iterator, eval_iterator, PAD_IDX_LABEL, epochs=EPOCHS, verbose=True)"
   ]
  },
  {
   "cell_type": "code",
   "execution_count": 26,
   "metadata": {},
   "outputs": [
    {
     "data": {
      "text/plain": [
       "<matplotlib.legend.Legend at 0x2c0ed944e48>"
      ]
     },
     "execution_count": 26,
     "metadata": {},
     "output_type": "execute_result"
    },
    {
     "data": {
      "image/png": "[encoded data removed]",
      "text/plain": [
       "<Figure size 720x576 with 1 Axes>"
      ]
     },
     "metadata": {},
     "output_type": "display_data"
    }
   ],
   "source": [
    "plt.plot(np.arange(EPOCHS), solver.performance['eval']['precision'], label=\"precision\", color=\"mediumvioletred\")\n",
    "plt.plot(np.arange(EPOCHS), solver.performance['eval']['loss'], label=\"loss\", color=\"steelblue\")\n",
    "plt.legend(frameon=True, loc=1)"
   ]
  },
  {
   "cell_type": "code",
   "execution_count": 55,
   "metadata": {},
   "outputs": [
    {
     "data": {
      "image/png": "[encoded data removed]",
      "text/plain": [
       "<Figure size 1080x1440 with 10 Axes>"
      ]
     },
     "metadata": {},
     "output_type": "display_data"
    }
   ],
   "source": [
    "fig = plt.figure(figsize=(15, 20))\n",
    "\n",
    "N = len(solver.performance['eval']['confusion'])  # should be equal to EPOCHS\n",
    "names = LABEL.vocab.itos[1:]  # names of classes, ignore unk and pad\n",
    "\n",
    "for i, data in enumerate(solver.performance['eval']['confusion']):\n",
    "    plt.subplot(N//2 + N%2, 2, i+1)\n",
    "    confusion = ConfusionMatrix(data=data)\n",
    "    ax = confusion.plot(names=names, normalize=True, cbar=True)\n",
    "    plt.title(f\"Epoch: {i+1}\")\n",
    "    plt.tight_layout()\n",
    "    \n",
    "plt.show()"
   ]
  }
 ],
 "metadata": {
  "kernelspec": {
   "display_name": "Python 3",
   "language": "python",
   "name": "python3"
  },
  "language_info": {
   "codemirror_mode": {
    "name": "ipython",
    "version": 3
   },
   "file_extension": ".py",
   "mimetype": "text/x-python",
   "name": "python",
   "nbconvert_exporter": "python",
   "pygments_lexer": "ipython3",
   "version": "3.7.4"
  }
 },
 "nbformat": 4,
 "nbformat_minor": 4
}
